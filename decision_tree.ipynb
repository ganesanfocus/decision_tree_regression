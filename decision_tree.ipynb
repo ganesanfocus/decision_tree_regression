{
 "cells": [
  {
   "cell_type": "code",
   "execution_count": 1,
   "metadata": {},
   "outputs": [],
   "source": [
    "import pandas as pd"
   ]
  },
  {
   "cell_type": "code",
   "execution_count": 2,
   "metadata": {},
   "outputs": [],
   "source": [
    "dataset = pd.read_csv(\"50_Startups.csv\")\n"
   ]
  },
  {
   "cell_type": "code",
   "execution_count": 3,
   "metadata": {},
   "outputs": [],
   "source": [
    "dataset = pd.get_dummies(dataset, drop_first=True)"
   ]
  },
  {
   "cell_type": "code",
   "execution_count": 4,
   "metadata": {},
   "outputs": [
    {
     "data": {
      "text/html": [
       "<div>\n",
       "<style scoped>\n",
       "    .dataframe tbody tr th:only-of-type {\n",
       "        vertical-align: middle;\n",
       "    }\n",
       "\n",
       "    .dataframe tbody tr th {\n",
       "        vertical-align: top;\n",
       "    }\n",
       "\n",
       "    .dataframe thead th {\n",
       "        text-align: right;\n",
       "    }\n",
       "</style>\n",
       "<table border=\"1\" class=\"dataframe\">\n",
       "  <thead>\n",
       "    <tr style=\"text-align: right;\">\n",
       "      <th></th>\n",
       "      <th>R&amp;D Spend</th>\n",
       "      <th>Administration</th>\n",
       "      <th>Marketing Spend</th>\n",
       "      <th>Profit</th>\n",
       "      <th>State_Florida</th>\n",
       "      <th>State_New York</th>\n",
       "    </tr>\n",
       "  </thead>\n",
       "  <tbody>\n",
       "    <tr>\n",
       "      <th>0</th>\n",
       "      <td>165349.20</td>\n",
       "      <td>136897.80</td>\n",
       "      <td>471784.10</td>\n",
       "      <td>192261.83</td>\n",
       "      <td>False</td>\n",
       "      <td>True</td>\n",
       "    </tr>\n",
       "    <tr>\n",
       "      <th>1</th>\n",
       "      <td>162597.70</td>\n",
       "      <td>151377.59</td>\n",
       "      <td>443898.53</td>\n",
       "      <td>191792.06</td>\n",
       "      <td>False</td>\n",
       "      <td>False</td>\n",
       "    </tr>\n",
       "    <tr>\n",
       "      <th>2</th>\n",
       "      <td>153441.51</td>\n",
       "      <td>101145.55</td>\n",
       "      <td>407934.54</td>\n",
       "      <td>191050.39</td>\n",
       "      <td>True</td>\n",
       "      <td>False</td>\n",
       "    </tr>\n",
       "    <tr>\n",
       "      <th>3</th>\n",
       "      <td>144372.41</td>\n",
       "      <td>118671.85</td>\n",
       "      <td>383199.62</td>\n",
       "      <td>182901.99</td>\n",
       "      <td>False</td>\n",
       "      <td>True</td>\n",
       "    </tr>\n",
       "    <tr>\n",
       "      <th>4</th>\n",
       "      <td>142107.34</td>\n",
       "      <td>91391.77</td>\n",
       "      <td>366168.42</td>\n",
       "      <td>166187.94</td>\n",
       "      <td>True</td>\n",
       "      <td>False</td>\n",
       "    </tr>\n",
       "  </tbody>\n",
       "</table>\n",
       "</div>"
      ],
      "text/plain": [
       "   R&D Spend  Administration  Marketing Spend     Profit  State_Florida  \\\n",
       "0  165349.20       136897.80        471784.10  192261.83          False   \n",
       "1  162597.70       151377.59        443898.53  191792.06          False   \n",
       "2  153441.51       101145.55        407934.54  191050.39           True   \n",
       "3  144372.41       118671.85        383199.62  182901.99          False   \n",
       "4  142107.34        91391.77        366168.42  166187.94           True   \n",
       "\n",
       "   State_New York  \n",
       "0            True  \n",
       "1           False  \n",
       "2           False  \n",
       "3            True  \n",
       "4           False  "
      ]
     },
     "execution_count": 4,
     "metadata": {},
     "output_type": "execute_result"
    }
   ],
   "source": [
    "dataset.head()"
   ]
  },
  {
   "cell_type": "code",
   "execution_count": 5,
   "metadata": {},
   "outputs": [
    {
     "data": {
      "text/plain": [
       "Index(['R&D Spend', 'Administration', 'Marketing Spend', 'Profit',\n",
       "       'State_Florida', 'State_New York'],\n",
       "      dtype='object')"
      ]
     },
     "execution_count": 5,
     "metadata": {},
     "output_type": "execute_result"
    }
   ],
   "source": [
    "dataset.columns"
   ]
  },
  {
   "cell_type": "code",
   "execution_count": 6,
   "metadata": {},
   "outputs": [],
   "source": [
    "independent = dataset[['R&D Spend', 'Administration', 'Marketing Spend', 'State_Florida', 'State_New York']]\n",
    "dependent = dataset[['Profit']]"
   ]
  },
  {
   "cell_type": "code",
   "execution_count": 7,
   "metadata": {},
   "outputs": [],
   "source": [
    "from sklearn.model_selection import train_test_split\n",
    "X_train, X_test, y_train, y_test = train_test_split(independent, dependent, test_size=0.30, random_state=0)"
   ]
  },
  {
   "cell_type": "code",
   "execution_count": 50,
   "metadata": {},
   "outputs": [],
   "source": [
    "from sklearn.tree import DecisionTreeRegressor\n",
    "# regressor = DecisionTreeRegressor()\n",
    "# regressor = regressor.fit(X_train, y_train)\n",
    "\n",
    "# squared_error\n",
    "regressor = DecisionTreeRegressor(criterion='squared_error',  splitter='best', max_features='sqrt')\n",
    "regressor = regressor.fit(X_train, y_train)\n",
    "\n"
   ]
  },
  {
   "cell_type": "code",
   "execution_count": 55,
   "metadata": {},
   "outputs": [],
   "source": [
    "# squared_error, splitter=best, max_features=log2\n",
    "regressor = DecisionTreeRegressor(criterion='squared_error',  splitter='best', max_features='log2')\n",
    "regressor = regressor.fit(X_train, y_train)"
   ]
  },
  {
   "cell_type": "code",
   "execution_count": null,
   "metadata": {},
   "outputs": [],
   "source": [
    "# # squared_error, splitter=random, max_features=sqrt\n",
    "\n",
    "regressor = DecisionTreeRegressor(criterion='squared_error',  splitter='random', max_features='sqrt')\n",
    "regressor = regressor.fit(X_train, y_train)"
   ]
  },
  {
   "cell_type": "code",
   "execution_count": null,
   "metadata": {},
   "outputs": [],
   "source": [
    "# # # squared_error, splitter=random, max_features=log2\n",
    "regressor = DecisionTreeRegressor(criterion='squared_error',  splitter='random', max_features='log2')\n",
    "regressor = regressor.fit(X_train, y_train)"
   ]
  },
  {
   "cell_type": "code",
   "execution_count": 72,
   "metadata": {},
   "outputs": [],
   "source": [
    "# friedman_mse, splitter=best, max_features=sqrt\n",
    "regressor = DecisionTreeRegressor(criterion='friedman_mse',  splitter='best', max_features='sqrt')\n",
    "regressor = regressor.fit(X_train, y_train)"
   ]
  },
  {
   "cell_type": "code",
   "execution_count": 76,
   "metadata": {},
   "outputs": [],
   "source": [
    "# friedman_mse, splitter=best, max_features=log2\n",
    "regressor = DecisionTreeRegressor(criterion='friedman_mse',  splitter='best', max_features='log2')\n",
    "regressor = regressor.fit(X_train, y_train)"
   ]
  },
  {
   "cell_type": "code",
   "execution_count": null,
   "metadata": {},
   "outputs": [],
   "source": [
    "# friedman_mse, splitter=random, max_features=sqrt\n",
    "regressor = DecisionTreeRegressor(criterion='friedman_mse',  splitter='random', max_features='sqrt')\n",
    "regressor = regressor.fit(X_train, y_train)"
   ]
  },
  {
   "cell_type": "code",
   "execution_count": 90,
   "metadata": {},
   "outputs": [],
   "source": [
    "# friedman_mse, splitter=random, max_features=log2\n",
    "regressor = DecisionTreeRegressor(criterion='friedman_mse',  splitter='random', max_features='log2')\n",
    "regressor = regressor.fit(X_train, y_train)"
   ]
  },
  {
   "cell_type": "code",
   "execution_count": 97,
   "metadata": {},
   "outputs": [],
   "source": [
    "# absolute_error,  splitter='best', max_features='sqrt')\n",
    "regressor = DecisionTreeRegressor(criterion='absolute_error',  splitter='best', max_features='sqrt')\n",
    "regressor = regressor.fit(X_train, y_train)"
   ]
  },
  {
   "cell_type": "code",
   "execution_count": 101,
   "metadata": {},
   "outputs": [],
   "source": [
    "# absolute_error,  splitter='best', max_features='log2')\n",
    "regressor = DecisionTreeRegressor(criterion='absolute_error',  splitter='best', max_features='log2')\n",
    "regressor = regressor.fit(X_train, y_train)"
   ]
  },
  {
   "cell_type": "code",
   "execution_count": 106,
   "metadata": {},
   "outputs": [],
   "source": [
    "# absolute_error,  splitter='random', max_features='sqrt')\n",
    "regressor = DecisionTreeRegressor(criterion='absolute_error',  splitter='random', max_features='sqrt')\n",
    "regressor = regressor.fit(X_train, y_train)"
   ]
  },
  {
   "cell_type": "code",
   "execution_count": 111,
   "metadata": {},
   "outputs": [],
   "source": [
    "# absolute_error,  splitter='random', max_features='log2')\n",
    "regressor = DecisionTreeRegressor(criterion='absolute_error',  splitter='random', max_features='log2')\n",
    "regressor = regressor.fit(X_train, y_train)"
   ]
  },
  {
   "cell_type": "code",
   "execution_count": 116,
   "metadata": {},
   "outputs": [],
   "source": [
    "# poisson\n",
    "# poisson,  splitter='best', max_features='sqrt')\n",
    "regressor = DecisionTreeRegressor(criterion='poisson',  splitter='best', max_features='sqrt')\n",
    "regressor = regressor.fit(X_train, y_train)"
   ]
  },
  {
   "cell_type": "code",
   "execution_count": 124,
   "metadata": {},
   "outputs": [],
   "source": [
    "# poisson,  splitter='best', max_features='log2')\n",
    "regressor = DecisionTreeRegressor(criterion='poisson',  splitter='best', max_features='log2')\n",
    "regressor = regressor.fit(X_train, y_train)"
   ]
  },
  {
   "cell_type": "code",
   "execution_count": null,
   "metadata": {},
   "outputs": [],
   "source": [
    "# poisson,  splitter='random', max_features='sqrt')\n",
    "regressor = DecisionTreeRegressor(criterion='poisson',  splitter='random', max_features='sqrt')\n",
    "regressor = regressor.fit(X_train, y_train)"
   ]
  },
  {
   "cell_type": "code",
   "execution_count": null,
   "metadata": {},
   "outputs": [],
   "source": []
  },
  {
   "cell_type": "code",
   "execution_count": 17,
   "metadata": {},
   "outputs": [],
   "source": [
    "import matplotlib.pyplot as plt\n"
   ]
  },
  {
   "cell_type": "code",
   "execution_count": 23,
   "metadata": {},
   "outputs": [
    {
     "data": {
      "image/png": "[encoded data removed]",
      "text/plain": [
       "<Figure size 640x480 with 1 Axes>"
      ]
     },
     "metadata": {},
     "output_type": "display_data"
    }
   ],
   "source": [
    "from sklearn import tree\n",
    "tree.plot_tree(regressor)\n",
    "plt.show()"
   ]
  },
  {
   "cell_type": "code",
   "execution_count": 125,
   "metadata": {},
   "outputs": [],
   "source": [
    "y_pred = regressor.predict(X_test)"
   ]
  },
  {
   "cell_type": "code",
   "execution_count": 126,
   "metadata": {},
   "outputs": [],
   "source": [
    "from sklearn.metrics import r2_score\n",
    "r2_score = r2_score(y_test, y_pred)\n"
   ]
  },
  {
   "cell_type": "code",
   "execution_count": null,
   "metadata": {},
   "outputs": [
    {
     "data": {
      "text/plain": [
       "0.5122205341510337"
      ]
     },
     "execution_count": 127,
     "metadata": {},
     "output_type": "execute_result"
    }
   ],
   "source": [
    "r2_score\n",
    "\n",
    "# For Squared error Predict value is : 0.9112695892268867 \n",
    "\n",
    "# For Freied man Predict value is: 0.9262748405043313\n",
    "\n",
    "# absolute_error Predict value is: 0.9583808423918403\n",
    "\n",
    "# poisson Predict value is: 0.9473875936539417\n",
    "\n",
    "# =============================================\n",
    "\n",
    "# c=squared_error, splitter=best, max_features=sqrt = 0.5499417746411643\n",
    "# c=squrared_error, splitter=best, max_features=log2 = 0.7068566406299608\n",
    "# c=squared_error, splitter=random, max_features=sqrt = 0.38666212660843857\n",
    "# c=squared_error, splitter=random, max_features=log2 = -0.2848348168791477# c=absolute_error, splitter=best, max_features=log2 =0.37637082350336015\n",
    "\n",
    "\n",
    "\n",
    "# c=friedman_mse, splitter=best, max_features=sqrt = 0.5871556226693673\n",
    "# c=friedman_mse, splitter=best, max_features=log2 = 0.402777643456952\n",
    "# c=friedman_mse, splitter=random, max_features=sqrt = 0.5072526904430219\n",
    "# c=friedman_mse, splitter=random, max_features=log2 = 0.346499687069174\n",
    "\n",
    "# c=absolute_error, splitter=best, max_features=sqrt =0.6493644230480817\n",
    "# c=absolute_error, splitter=best, max_features=log2 =0.37637082350336015\n",
    "# c=absolute_error, splitter=random, max_features=sqrt =0.5991146818852071\n",
    "# c=absolute_error, splitter=random, max_features=log2 =0.882972341015747\n",
    "\n",
    "\n",
    "\n",
    "# c=poisson, splitter=best, max_features=sqrt =0.8538628798369731\n",
    "# c=poisson, splitter=best, max_features=log2 =0.5122205341510337\n",
    "# c=poisson, splitter=random, max_features=sqrt =\n",
    "# c=poisson, splitter=random, max_features=log2 =\n"
   ]
  }
 ],
 "metadata": {
  "kernelspec": {
   "display_name": "Python 3",
   "language": "python",
   "name": "python3"
  },
  "language_info": {
   "codemirror_mode": {
    "name": "ipython",
    "version": 3
   },
   "file_extension": ".py",
   "mimetype": "text/x-python",
   "name": "python",
   "nbconvert_exporter": "python",
   "pygments_lexer": "ipython3",
   "version": "3.11.5"
  }
 },
 "nbformat": 4,
 "nbformat_minor": 2
}
